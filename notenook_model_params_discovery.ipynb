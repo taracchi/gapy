{
 "cells": [
  {
   "cell_type": "markdown",
   "metadata": {},
   "source": [
    "# GAPy for model parameters discovery\n",
    "\n",
    "The GAPy framework is used fo optimize the parameters of a model by using a dataet containing\n",
    "- model inputs\n",
    "- model (noisy) outputs\n",
    "- the model generic form\n"
   ]
  },
  {
   "cell_type": "code",
   "execution_count": 10,
   "metadata": {},
   "outputs": [
    {
     "data": {
      "text/html": [
       "    <style>\n",
       "        .bk-notebook-logo {\n",
       "            display: block;\n",
       "            width: 20px;\n",
       "            height: 20px;\n",
       "            background-image: url(data:image/png;base64,iVBORw0KGgoAAAANSUhEUgAAABQAAAAUCAYAAACNiR0NAAAABHNCSVQICAgIfAhkiAAAAAlwSFlzAAALEgAACxIB0t1+/AAAABx0RVh0U29mdHdhcmUAQWRvYmUgRmlyZXdvcmtzIENTNui8sowAAAOkSURBVDiNjZRtaJVlGMd/1/08zzln5zjP1LWcU9N0NkN8m2CYjpgQYQXqSs0I84OLIC0hkEKoPtiH3gmKoiJDU7QpLgoLjLIQCpEsNJ1vqUOdO7ppbuec5+V+rj4ctwzd8IIbbi6u+8f1539dt3A78eXC7QizUF7gyV1fD1Yqg4JWz84yffhm0qkFqBogB9rM8tZdtwVsPUhWhGcFJngGeWrPzHm5oaMmkfEg1usvLFyc8jLRqDOMru7AyC8saQr7GG7f5fvDeH7Ej8CM66nIF+8yngt6HWaKh7k49Soy9nXurCi1o3qUbS3zWfrYeQDTB/Qj6kX6Ybhw4B+bOYoLKCC9H3Nu/leUTZ1JdRWkkn2ldcCamzrcf47KKXdAJllSlxAOkRgyHsGC/zRday5Qld9DyoM4/q/rUoy/CXh3jzOu3bHUVZeU+DEn8FInkPBFlu3+nW3Nw0mk6vCDiWg8CeJaxEwuHS3+z5RgY+YBR6V1Z1nxSOfoaPa4LASWxxdNp+VWTk7+4vzaou8v8PN+xo+KY2xsw6une2frhw05CTYOmQvsEhjhWjn0bmXPjpE1+kplmmkP3suftwTubK9Vq22qKmrBhpY4jvd5afdRA3wGjFAgcnTK2s4hY0/GPNIb0nErGMCRxWOOX64Z8RAC4oCXdklmEvcL8o0BfkNK4lUg9HTl+oPlQxdNo3Mg4Nv175e/1LDGzZen30MEjRUtmXSfiTVu1kK8W4txyV6BMKlbgk3lMwYCiusNy9fVfvvwMxv8Ynl6vxoByANLTWplvuj/nF9m2+PDtt1eiHPBr1oIfhCChQMBw6Aw0UulqTKZdfVvfG7VcfIqLG9bcldL/+pdWTLxLUy8Qq38heUIjh4XlzZxzQm19lLFlr8vdQ97rjZVOLf8nclzckbcD4wxXMidpX30sFd37Fv/GtwwhzhxGVAprjbg0gCAEeIgwCZyTV2Z1REEW8O4py0wsjeloKoMr6iCY6dP92H6Vw/oTyICIthibxjm/DfN9lVz8IqtqKYLUXfoKVMVQVVJOElGjrnnUt9T9wbgp8AyYKaGlqingHZU/uG2NTZSVqwHQTWkx9hxjkpWDaCg6Ckj5qebgBVbT3V3NNXMSiWSDdGV3hrtzla7J+duwPOToIg42ChPQOQjspnSlp1V+Gjdged7+8UN5CRAV7a5EdFNwCjEaBR27b3W890TE7g24NAP/mMDXRWrGoFPQI9ls/MWO2dWFAar/xcOIImbbpA3zgAAAABJRU5ErkJggg==);\n",
       "        }\n",
       "    </style>\n",
       "    <div>\n",
       "        <a href=\"https://bokeh.org\" target=\"_blank\" class=\"bk-notebook-logo\"></a>\n",
       "        <span id=\"c0a3a80f-e0be-4313-931c-6ed543626496\">Loading BokehJS ...</span>\n",
       "    </div>\n"
      ]
     },
     "metadata": {},
     "output_type": "display_data"
    },
    {
     "data": {
      "application/javascript": "'use strict';\n(function(root) {\n  function now() {\n    return new Date();\n  }\n\n  const force = true;\n\n  if (typeof root._bokeh_onload_callbacks === \"undefined\" || force === true) {\n    root._bokeh_onload_callbacks = [];\n    root._bokeh_is_loading = undefined;\n  }\n\nconst JS_MIME_TYPE = 'application/javascript';\n  const HTML_MIME_TYPE = 'text/html';\n  const EXEC_MIME_TYPE = 'application/vnd.bokehjs_exec.v0+json';\n  const CLASS_NAME = 'output_bokeh rendered_html';\n\n  /**\n   * Render data to the DOM node\n   */\n  function render(props, node) {\n    const script = document.createElement(\"script\");\n    node.appendChild(script);\n  }\n\n  /**\n   * Handle when an output is cleared or removed\n   */\n  function handleClearOutput(event, handle) {\n    function drop(id) {\n      const view = Bokeh.index.get_by_id(id)\n      if (view != null) {\n        view.model.document.clear()\n        Bokeh.index.delete(view)\n      }\n    }\n\n    const cell = handle.cell;\n\n    const id = cell.output_area._bokeh_element_id;\n    const server_id = cell.output_area._bokeh_server_id;\n\n    // Clean up Bokeh references\n    if (id != null) {\n      drop(id)\n    }\n\n    if (server_id !== undefined) {\n      // Clean up Bokeh references\n      const cmd_clean = \"from bokeh.io.state import curstate; print(curstate().uuid_to_server['\" + server_id + \"'].get_sessions()[0].document.roots[0]._id)\";\n      cell.notebook.kernel.execute(cmd_clean, {\n        iopub: {\n          output: function(msg) {\n            const id = msg.content.text.trim()\n            drop(id)\n          }\n        }\n      });\n      // Destroy server and session\n      const cmd_destroy = \"import bokeh.io.notebook as ion; ion.destroy_server('\" + server_id + \"')\";\n      cell.notebook.kernel.execute(cmd_destroy);\n    }\n  }\n\n  /**\n   * Handle when a new output is added\n   */\n  function handleAddOutput(event, handle) {\n    const output_area = handle.output_area;\n    const output = handle.output;\n\n    // limit handleAddOutput to display_data with EXEC_MIME_TYPE content only\n    if ((output.output_type != \"display_data\") || (!Object.prototype.hasOwnProperty.call(output.data, EXEC_MIME_TYPE))) {\n      return\n    }\n\n    const toinsert = output_area.element.find(\".\" + CLASS_NAME.split(' ')[0]);\n\n    if (output.metadata[EXEC_MIME_TYPE][\"id\"] !== undefined) {\n      toinsert[toinsert.length - 1].firstChild.textContent = output.data[JS_MIME_TYPE];\n      // store reference to embed id on output_area\n      output_area._bokeh_element_id = output.metadata[EXEC_MIME_TYPE][\"id\"];\n    }\n    if (output.metadata[EXEC_MIME_TYPE][\"server_id\"] !== undefined) {\n      const bk_div = document.createElement(\"div\");\n      bk_div.innerHTML = output.data[HTML_MIME_TYPE];\n      const script_attrs = bk_div.children[0].attributes;\n      for (let i = 0; i < script_attrs.length; i++) {\n        toinsert[toinsert.length - 1].firstChild.setAttribute(script_attrs[i].name, script_attrs[i].value);\n        toinsert[toinsert.length - 1].firstChild.textContent = bk_div.children[0].textContent\n      }\n      // store reference to server id on output_area\n      output_area._bokeh_server_id = output.metadata[EXEC_MIME_TYPE][\"server_id\"];\n    }\n  }\n\n  function register_renderer(events, OutputArea) {\n\n    function append_mime(data, metadata, element) {\n      // create a DOM node to render to\n      const toinsert = this.create_output_subarea(\n        metadata,\n        CLASS_NAME,\n        EXEC_MIME_TYPE\n      );\n      this.keyboard_manager.register_events(toinsert);\n      // Render to node\n      const props = {data: data, metadata: metadata[EXEC_MIME_TYPE]};\n      render(props, toinsert[toinsert.length - 1]);\n      element.append(toinsert);\n      return toinsert\n    }\n\n    /* Handle when an output is cleared or removed */\n    events.on('clear_output.CodeCell', handleClearOutput);\n    events.on('delete.Cell', handleClearOutput);\n\n    /* Handle when a new output is added */\n    events.on('output_added.OutputArea', handleAddOutput);\n\n    /**\n     * Register the mime type and append_mime function with output_area\n     */\n    OutputArea.prototype.register_mime_type(EXEC_MIME_TYPE, append_mime, {\n      /* Is output safe? */\n      safe: true,\n      /* Index of renderer in `output_area.display_order` */\n      index: 0\n    });\n  }\n\n  // register the mime type if in Jupyter Notebook environment and previously unregistered\n  if (root.Jupyter !== undefined) {\n    const events = require('base/js/events');\n    const OutputArea = require('notebook/js/outputarea').OutputArea;\n\n    if (OutputArea.prototype.mime_types().indexOf(EXEC_MIME_TYPE) == -1) {\n      register_renderer(events, OutputArea);\n    }\n  }\n  if (typeof (root._bokeh_timeout) === \"undefined\" || force === true) {\n    root._bokeh_timeout = Date.now() + 5000;\n    root._bokeh_failed_load = false;\n  }\n\n  const NB_LOAD_WARNING = {'data': {'text/html':\n     \"<div style='background-color: #fdd'>\\n\"+\n     \"<p>\\n\"+\n     \"BokehJS does not appear to have successfully loaded. If loading BokehJS from CDN, this \\n\"+\n     \"may be due to a slow or bad network connection. Possible fixes:\\n\"+\n     \"</p>\\n\"+\n     \"<ul>\\n\"+\n     \"<li>re-rerun `output_notebook()` to attempt to load from CDN again, or</li>\\n\"+\n     \"<li>use INLINE resources instead, as so:</li>\\n\"+\n     \"</ul>\\n\"+\n     \"<code>\\n\"+\n     \"from bokeh.resources import INLINE\\n\"+\n     \"output_notebook(resources=INLINE)\\n\"+\n     \"</code>\\n\"+\n     \"</div>\"}};\n\n  function display_loaded(error = null) {\n    const el = document.getElementById(\"c0a3a80f-e0be-4313-931c-6ed543626496\");\n    if (el != null) {\n      const html = (() => {\n        if (typeof root.Bokeh === \"undefined\") {\n          if (error == null) {\n            return \"BokehJS is loading ...\";\n          } else {\n            return \"BokehJS failed to load.\";\n          }\n        } else {\n          const prefix = `BokehJS ${root.Bokeh.version}`;\n          if (error == null) {\n            return `${prefix} successfully loaded.`;\n          } else {\n            return `${prefix} <b>encountered errors</b> while loading and may not function as expected.`;\n          }\n        }\n      })();\n      el.innerHTML = html;\n\n      if (error != null) {\n        const wrapper = document.createElement(\"div\");\n        wrapper.style.overflow = \"auto\";\n        wrapper.style.height = \"5em\";\n        wrapper.style.resize = \"vertical\";\n        const content = document.createElement(\"div\");\n        content.style.fontFamily = \"monospace\";\n        content.style.whiteSpace = \"pre-wrap\";\n        content.style.backgroundColor = \"rgb(255, 221, 221)\";\n        content.textContent = error.stack ?? error.toString();\n        wrapper.append(content);\n        el.append(wrapper);\n      }\n    } else if (Date.now() < root._bokeh_timeout) {\n      setTimeout(() => display_loaded(error), 100);\n    }\n  }\n\n  function run_callbacks() {\n    try {\n      root._bokeh_onload_callbacks.forEach(function(callback) {\n        if (callback != null)\n          callback();\n      });\n    } finally {\n      delete root._bokeh_onload_callbacks\n    }\n    console.debug(\"Bokeh: all callbacks have finished\");\n  }\n\n  function load_libs(css_urls, js_urls, callback) {\n    if (css_urls == null) css_urls = [];\n    if (js_urls == null) js_urls = [];\n\n    root._bokeh_onload_callbacks.push(callback);\n    if (root._bokeh_is_loading > 0) {\n      console.debug(\"Bokeh: BokehJS is being loaded, scheduling callback at\", now());\n      return null;\n    }\n    if (js_urls == null || js_urls.length === 0) {\n      run_callbacks();\n      return null;\n    }\n    console.debug(\"Bokeh: BokehJS not loaded, scheduling load and callback at\", now());\n    root._bokeh_is_loading = css_urls.length + js_urls.length;\n\n    function on_load() {\n      root._bokeh_is_loading--;\n      if (root._bokeh_is_loading === 0) {\n        console.debug(\"Bokeh: all BokehJS libraries/stylesheets loaded\");\n        run_callbacks()\n      }\n    }\n\n    function on_error(url) {\n      console.error(\"failed to load \" + url);\n    }\n\n    for (let i = 0; i < css_urls.length; i++) {\n      const url = css_urls[i];\n      const element = document.createElement(\"link\");\n      element.onload = on_load;\n      element.onerror = on_error.bind(null, url);\n      element.rel = \"stylesheet\";\n      element.type = \"text/css\";\n      element.href = url;\n      console.debug(\"Bokeh: injecting link tag for BokehJS stylesheet: \", url);\n      document.body.appendChild(element);\n    }\n\n    for (let i = 0; i < js_urls.length; i++) {\n      const url = js_urls[i];\n      const element = document.createElement('script');\n      element.onload = on_load;\n      element.onerror = on_error.bind(null, url);\n      element.async = false;\n      element.src = url;\n      console.debug(\"Bokeh: injecting script tag for BokehJS library: \", url);\n      document.head.appendChild(element);\n    }\n  };\n\n  function inject_raw_css(css) {\n    const element = document.createElement(\"style\");\n    element.appendChild(document.createTextNode(css));\n    document.body.appendChild(element);\n  }\n\n  const js_urls = [\"https://cdn.bokeh.org/bokeh/release/bokeh-3.4.2.min.js\", \"https://cdn.bokeh.org/bokeh/release/bokeh-gl-3.4.2.min.js\", \"https://cdn.bokeh.org/bokeh/release/bokeh-widgets-3.4.2.min.js\", \"https://cdn.bokeh.org/bokeh/release/bokeh-tables-3.4.2.min.js\", \"https://cdn.bokeh.org/bokeh/release/bokeh-mathjax-3.4.2.min.js\"];\n  const css_urls = [];\n\n  const inline_js = [    function(Bokeh) {\n      Bokeh.set_log_level(\"info\");\n    },\nfunction(Bokeh) {\n    }\n  ];\n\n  function run_inline_js() {\n    if (root.Bokeh !== undefined || force === true) {\n      try {\n            for (let i = 0; i < inline_js.length; i++) {\n      inline_js[i].call(root, root.Bokeh);\n    }\n\n      } catch (error) {display_loaded(error);throw error;\n      }if (force === true) {\n        display_loaded();\n      }} else if (Date.now() < root._bokeh_timeout) {\n      setTimeout(run_inline_js, 100);\n    } else if (!root._bokeh_failed_load) {\n      console.log(\"Bokeh: BokehJS failed to load within specified timeout.\");\n      root._bokeh_failed_load = true;\n    } else if (force !== true) {\n      const cell = $(document.getElementById(\"c0a3a80f-e0be-4313-931c-6ed543626496\")).parents('.cell').data().cell;\n      cell.output_area.append_execute_result(NB_LOAD_WARNING)\n    }\n  }\n\n  if (root._bokeh_is_loading === 0) {\n    console.debug(\"Bokeh: BokehJS loaded, going straight to plotting\");\n    run_inline_js();\n  } else {\n    load_libs(css_urls, js_urls, function() {\n      console.debug(\"Bokeh: BokehJS plotting callback run at\", now());\n      run_inline_js();\n    });\n  }\n}(window));",
      "application/vnd.bokehjs_load.v0+json": ""
     },
     "metadata": {},
     "output_type": "display_data"
    }
   ],
   "source": [
    "import numpy as np\n",
    "from gapy import GAPy,selection_rank\n",
    "\n",
    "from bokeh.plotting import figure\n",
    "from bokeh.io import output_notebook, show\n",
    "\n",
    "output_notebook()"
   ]
  },
  {
   "cell_type": "markdown",
   "metadata": {},
   "source": [
    "## Synthetic data creation\n",
    "\n",
    "The model is implemented in the `mysterious_function` function.\n",
    "\n",
    "$A \\cdot sin(B \\cdot (x-C)) + D$\n",
    "\n",
    "where A, B, C and D are the model parameters to *discover*. Let's suppose that these parameters vary in the range [0,5].\n",
    "\n",
    "`x_values` is the model input variable. `NUM_POINTS` samples are created and the model is used to generate the corrsponding outputs `y_pure`.\n",
    "To make the thing more interesting some noise is added to `y_pure`: so `y_values` is finally created by adding a random noise whose percentual maximum value is `NOISE_PCT`.\n",
    "\n",
    "Model original parameters are in the `actual_pars` dictionary."
   ]
  },
  {
   "cell_type": "code",
   "execution_count": 4,
   "metadata": {},
   "outputs": [],
   "source": [
    "NOISE_PCT=10\n",
    "NUM_POINTS=50\n",
    "\n",
    "def mysterious_function(x,pars):\n",
    "    # A sin (B(x-C)) + D\n",
    "    collector=[]\n",
    "    for xi in x:\n",
    "        collector.append(pars['A']*np.sin(pars['B']*(xi+pars['C']))+pars['D'])\n",
    "    return np.array(collector)\n",
    "        \n",
    "        \n",
    "x_values=np.linspace(-10,10,num=NUM_POINTS)\n",
    "\n",
    "actual_pars={'A':1,\n",
    "             'B':.75,\n",
    "             'C':2,\n",
    "             'D':1}\n",
    "\n",
    "y_pure=mysterious_function(x_values, actual_pars)\n",
    "y_values=np.array([yi+np.random.randn()*NOISE_PCT/100*yi for yi in y_pure])"
   ]
  },
  {
   "cell_type": "markdown",
   "metadata": {},
   "source": [
    "## Setting up the GAPy\n",
    "\n",
    "### Initial population\n",
    "\n",
    "First step is to decide how to code the choromosomes. GAPy is very flexible on it. This is basically a *real-coded* GA problem but here we use a dictionary (similar to `actual_pars`) so we can directly reuse the `misteryous_function` that takes a dictionary as parameters of our function.\n",
    "\n",
    "The `initial_population` is thus created as a list of dictionaries. Each element of the dictionary is set at random in the parameters range (if we know it...)"
   ]
  },
  {
   "cell_type": "code",
   "execution_count": 5,
   "metadata": {},
   "outputs": [],
   "source": [
    "NUM_CROMOSOMES=100\n",
    "\n",
    "# initial population\n",
    "initial_population=[]\n",
    "for i in range(NUM_CROMOSOMES):\n",
    "    initial_population.append({'A':np.random.randint(0,5),\n",
    "                               'B':np.random.randint(0,5),\n",
    "                               'C':np.random.randint(0,5),\n",
    "                               'D':np.random.randint(0,5)})"
   ]
  },
  {
   "cell_type": "markdown",
   "metadata": {},
   "source": [
    "### Fitness function\n",
    "\n",
    "GAPy supports fitness functios with one only input parameter: the solution to evaluate.\n",
    "\n",
    "In this case `fit_fun_params_tuning` takes more parameters to consider the *training dataset*: when it will be passed to the optimizer we will handle this issue..."
   ]
  },
  {
   "cell_type": "code",
   "execution_count": 6,
   "metadata": {},
   "outputs": [],
   "source": [
    "# FITNESS FUNCTION\n",
    "def fit_fun_params_tuning(solution,xvalues,y_actual,base_function):\n",
    "    y_pred=base_function(xvalues,solution)\n",
    "    return np.mean(np.abs(y_pred-y_actual))"
   ]
  },
  {
   "cell_type": "markdown",
   "metadata": {},
   "source": [
    "### Genetic operators\n",
    "\n",
    "- crossover function\n",
    "- mutation function\n",
    "\n",
    "> `crossover_weighted_params_tuning` uses 4 input arguments instead of the *standard* two parents. GAPy supports this approach **provided** the two additional arguments are the fitness values of the two parents."
   ]
  },
  {
   "cell_type": "code",
   "execution_count": 7,
   "metadata": {},
   "outputs": [],
   "source": [
    "# MUTATION\n",
    "def mutation_params_tuning(solution):\n",
    "    # one param is modified at random in the range +/- 0.25\n",
    "    # choose which param to modify\n",
    "    muted_param=np.random.choice(['A','B','C','D'])\n",
    "    # modify it\n",
    "    solution[muted_param]=solution[muted_param]+np.random.randn()*0.5\n",
    "    return solution\n",
    "\n",
    "\n",
    "# CROSSOVER\n",
    "def crossover_basic_params_tuning(s1,s2):\n",
    "    # gene-wise average of the two parents\n",
    "    res={}\n",
    "    for param in ['A','B','C','D']:\n",
    "        res[param]=(s1[param]+s2[param])/2\n",
    "    return res\n",
    "\n",
    "def crossover_weighted_params_tuning(s1,s2,fit1,fit2):\n",
    "    # weighted average: the better the solution the higher the weight\n",
    "    w1=1-fit1/(fit1+fit2)\n",
    "    w2=1-w1\n",
    "    res={}\n",
    "    for param in ['A','B','C','D']:\n",
    "        res[param]=w1*s1[param]+w2*s2[param]\n",
    "    return res"
   ]
  },
  {
   "cell_type": "markdown",
   "metadata": {},
   "source": [
    "## Initializing the GAPy optimizer\n",
    "\n",
    "> Note that the fitness function is adapted through the `lambda` operator to a 1-argument function by passing the data and the generic model."
   ]
  },
  {
   "cell_type": "code",
   "execution_count": 8,
   "metadata": {},
   "outputs": [],
   "source": [
    "params_optimizer=GAPy(initial_population,\n",
    "          selection_function=selection_rank,\n",
    "          fitness_function=lambda x:fit_fun_params_tuning(x,x_values,y_values,mysterious_function),\n",
    "          crossover_function=crossover_weighted_params_tuning,\n",
    "          mutation_function=mutation_params_tuning)\n"
   ]
  },
  {
   "cell_type": "markdown",
   "metadata": {},
   "source": [
    "## Optimization"
   ]
  },
  {
   "cell_type": "code",
   "execution_count": 9,
   "metadata": {},
   "outputs": [
    {
     "name": "stdout",
     "output_type": "stream",
     "text": [
      "[1/600] Ave:   1.91  Curr.Best:  0.612  Best:  0.612 [Age: 0]\n",
      "[    10/600   ] Ave.:   0.6 Curr.Best: 0.484 Best: 0.484 [AGE 2]\n",
      "[    20/600   ] Ave.:  0.59 Curr.Best: 0.484 Best: 0.484 [AGE 12]\n",
      "[    30/600   ] Ave.:  0.59 Curr.Best: 0.265 Best: 0.265 [AGE 0]\n",
      "[    40/600   ] Ave.: 0.594 Curr.Best: 0.237 Best: 0.237 [AGE 0]\n",
      "[    50/600   ] Ave.: 0.223 Curr.Best: 0.147 Best: 0.147 [AGE 1]\n",
      "[    60/600   ] Ave.:  0.14 Curr.Best: 0.103 Best: 0.103 [AGE 0]\n",
      "[    70/600   ] Ave.: 0.122 Curr.Best:0.0963 Best:0.0963 [AGE 0]\n",
      "[    80/600   ] Ave.: 0.115 Curr.Best:0.0905 Best:0.0905 [AGE 0]\n",
      "[    90/600   ] Ave.: 0.121 Curr.Best:0.0894 Best:0.0894 [AGE 0]\n",
      "[   100/600   ] Ave.: 0.108 Curr.Best:0.0894 Best:0.0894 [AGE 0]\n",
      "[   110/600   ] Ave.: 0.117 Curr.Best:0.0894 Best:0.0894 [AGE 9]\n",
      "[   120/600   ] Ave.: 0.108 Curr.Best:0.0894 Best:0.0894 [AGE 19]\n",
      "[   130/600   ] Ave.: 0.114 Curr.Best:0.0893 Best:0.0893 [AGE 1]\n",
      "[   140/600   ] Ave.: 0.125 Curr.Best:0.0893 Best:0.0893 [AGE 11]\n",
      "[   150/600   ] Ave.: 0.103 Curr.Best:0.0893 Best:0.0893 [AGE 21]\n",
      "[   160/600   ] Ave.: 0.111 Curr.Best:0.0892 Best:0.0892 [AGE 3]\n",
      "[   170/600   ] Ave.: 0.113 Curr.Best:0.0892 Best:0.0892 [AGE 13]\n",
      "[   180/600   ] Ave.: 0.106 Curr.Best:0.0892 Best:0.0892 [AGE 23]\n",
      "[   190/600   ] Ave.: 0.101 Curr.Best:0.0892 Best:0.0892 [AGE 33]\n",
      "[   200/600   ] Ave.:0.0993 Curr.Best:0.0892 Best:0.0892 [AGE 43]\n",
      "[   210/600   ] Ave.: 0.113 Curr.Best:0.0892 Best:0.0892 [AGE 53]\n",
      "Elapsed Time: 0:00:10.065806\n"
     ]
    }
   ],
   "source": [
    "soluzione=params_optimizer.optimize(max_generations=600,\n",
    "                                    elite=3,\n",
    "                                    max_time=10,\n",
    "                                    patience=100,\n",
    "                                    print_frequency=10)\n"
   ]
  },
  {
   "cell_type": "markdown",
   "metadata": {},
   "source": [
    "## Evaluation\n",
    "\n",
    "The solution is tested. A GAPy solution has two components: `.coded` contains the solution according to the initial coding, decided by the user (inthis case the dictionary).\n",
    "\n",
    "- the model output values corresponding to the input variables in the dataset are calculated\n",
    "- then they are compared to the **noisy** and **non noisy** data\n"
   ]
  },
  {
   "cell_type": "code",
   "execution_count": 12,
   "metadata": {},
   "outputs": [
    {
     "data": {
      "text/html": [
       "\n",
       "  <div id=\"efe43147-8733-43c9-9799-5d378b3f350f\" data-root-id=\"p1055\" style=\"display: contents;\"></div>\n"
      ]
     },
     "metadata": {},
     "output_type": "display_data"
    },
    {
     "data": {
      "application/javascript": "(function(root) {\n  function embed_document(root) {\n  const docs_json = {\"27ec9d2a-7b7d-4eec-b159-2ab606a6168b\":{\"version\":\"3.4.2\",\"title\":\"Bokeh Application\",\"roots\":[{\"type\":\"object\",\"name\":\"Figure\",\"id\":\"p1055\",\"attributes\":{\"width\":1000,\"x_range\":{\"type\":\"object\",\"name\":\"DataRange1d\",\"id\":\"p1056\"},\"y_range\":{\"type\":\"object\",\"name\":\"DataRange1d\",\"id\":\"p1057\"},\"x_scale\":{\"type\":\"object\",\"name\":\"LinearScale\",\"id\":\"p1065\"},\"y_scale\":{\"type\":\"object\",\"name\":\"LinearScale\",\"id\":\"p1066\"},\"title\":{\"type\":\"object\",\"name\":\"Title\",\"id\":\"p1058\",\"attributes\":{\"text\":\"Function fitting results\"}},\"renderers\":[{\"type\":\"object\",\"name\":\"GlyphRenderer\",\"id\":\"p1094\",\"attributes\":{\"data_source\":{\"type\":\"object\",\"name\":\"ColumnDataSource\",\"id\":\"p1088\",\"attributes\":{\"selected\":{\"type\":\"object\",\"name\":\"Selection\",\"id\":\"p1089\",\"attributes\":{\"indices\":[],\"line_indices\":[]}},\"selection_policy\":{\"type\":\"object\",\"name\":\"UnionRenderers\",\"id\":\"p1090\"},\"data\":{\"type\":\"map\",\"entries\":[[\"x\",{\"type\":\"ndarray\",\"array\":{\"type\":\"bytes\",\"data\":\"AAAAAAAAJMDMKXg5BS8jwJhT8HIKXiLAY31orA+NIcAvp+DlFLwgwPahsT401h/AjfWhsT40HsAkSZIkSZIcwLycgpdT8BrAVPByCl5OGcDrQ2N9aKwXwIKXU/ByChbAGutDY31oFMCyPjTWh8YSwEmSJEmSJBHAwMspeDkFD8DwcgpeTsELwCAa60NjfQjATsHLKXg5BcB8aKwPjfUBwFgfGutDY/2/uG3btm3b9r8QvJyCl1Pwv+AUvJyCl+O/gMb60Fgfyr+AxvrQWB/KP+AUvJyCl+M/GLycgpdT8D+4bdu2bdv2P1gfGutDY/0/gGisD431AUBQwcspeDkFQCAa60NjfQhA8HIKXk7BC0DAyyl4OQUPQEqSJEmSJBFAsj401ofGEkAa60NjfWgUQISXU/ByChZA7ENjfWisF0BU8HIKXk4ZQLycgpdT8BpAJEmSJEmSHECM9aGxPjQeQPihsT401h9AMKfg5RS8IEBkfWisD40hQJhT8HIKXiJAzCl4OQUvI0AAAAAAAAAkQA==\"},\"shape\":[50],\"dtype\":\"float64\",\"order\":\"little\"}],[\"y\",{\"type\":\"ndarray\",\"array\":{\"type\":\"bytes\",\"data\":\"sCisYnx49D8jEGaFf+T4PxOsdJ3WfPw/B8ORle7r/j8VPFTH1/f/Pye2lAyph/8/7hJEtNCl/T/es2o4HH/6P7VPZsuNXvY/NzlU5WKm8T9jazSq443pP0gnt4ZvaOA/WGDRIz9s0T9AuFf6PHG5P4CyZQgVDIU/AI2J4U8Giz/o6tH9SZ27Pxb4rNqGRdI/qKOzoBvy4D+IDMj2yifqP4gmVnFM9PE/1lRlrC6m9j+ObjBxy7n6P/qWZGMZzv0/1KO4TsyZ/z8+VN7fJfL/P+xSWxPvzv4/qScVwDtL/D98RAwP5qL4P+7wO879LPQ/WgAULWCn7j9iefHqzxTlP1Cjt2VMDNk/HMLXnk8cxz9w6fQP74KnPwAAuKTILb4+cPvs6MYYqD98kh7bv2PHP9rQM2uvPdk/t87kGAsy5T+BAEk6bcbuP6RB27X7O/Q/2Ggaffav+D/Etkm8J1X8P6Lk0nHK1P4/2ALANmXz/z+GNbTsUZb/P7lpehI4xv0/VHgLxD6u+j/kC4ONCZj2Pw==\"},\"shape\":[50],\"dtype\":\"float64\",\"order\":\"little\"}]]}}},\"view\":{\"type\":\"object\",\"name\":\"CDSView\",\"id\":\"p1095\",\"attributes\":{\"filter\":{\"type\":\"object\",\"name\":\"AllIndices\",\"id\":\"p1096\"}}},\"glyph\":{\"type\":\"object\",\"name\":\"Line\",\"id\":\"p1091\",\"attributes\":{\"x\":{\"type\":\"field\",\"field\":\"x\"},\"y\":{\"type\":\"field\",\"field\":\"y\"},\"line_color\":\"#1f77b4\",\"line_width\":4}},\"nonselection_glyph\":{\"type\":\"object\",\"name\":\"Line\",\"id\":\"p1092\",\"attributes\":{\"x\":{\"type\":\"field\",\"field\":\"x\"},\"y\":{\"type\":\"field\",\"field\":\"y\"},\"line_color\":\"#1f77b4\",\"line_alpha\":0.1,\"line_width\":4}},\"muted_glyph\":{\"type\":\"object\",\"name\":\"Line\",\"id\":\"p1093\",\"attributes\":{\"x\":{\"type\":\"field\",\"field\":\"x\"},\"y\":{\"type\":\"field\",\"field\":\"y\"},\"line_color\":\"#1f77b4\",\"line_alpha\":0.2,\"line_width\":4}}}},{\"type\":\"object\",\"name\":\"GlyphRenderer\",\"id\":\"p1105\",\"attributes\":{\"data_source\":{\"type\":\"object\",\"name\":\"ColumnDataSource\",\"id\":\"p1099\",\"attributes\":{\"selected\":{\"type\":\"object\",\"name\":\"Selection\",\"id\":\"p1100\",\"attributes\":{\"indices\":[],\"line_indices\":[]}},\"selection_policy\":{\"type\":\"object\",\"name\":\"UnionRenderers\",\"id\":\"p1101\"},\"data\":{\"type\":\"map\",\"entries\":[[\"x\",{\"type\":\"ndarray\",\"array\":{\"type\":\"bytes\",\"data\":\"AAAAAAAAJMDMKXg5BS8jwJhT8HIKXiLAY31orA+NIcAvp+DlFLwgwPahsT401h/AjfWhsT40HsAkSZIkSZIcwLycgpdT8BrAVPByCl5OGcDrQ2N9aKwXwIKXU/ByChbAGutDY31oFMCyPjTWh8YSwEmSJEmSJBHAwMspeDkFD8DwcgpeTsELwCAa60NjfQjATsHLKXg5BcB8aKwPjfUBwFgfGutDY/2/uG3btm3b9r8QvJyCl1Pwv+AUvJyCl+O/gMb60Fgfyr+AxvrQWB/KP+AUvJyCl+M/GLycgpdT8D+4bdu2bdv2P1gfGutDY/0/gGisD431AUBQwcspeDkFQCAa60NjfQhA8HIKXk7BC0DAyyl4OQUPQEqSJEmSJBFAsj401ofGEkAa60NjfWgUQISXU/ByChZA7ENjfWisF0BU8HIKXk4ZQLycgpdT8BpAJEmSJEmSHECM9aGxPjQeQPihsT401h9AMKfg5RS8IEBkfWisD40hQJhT8HIKXiJAzCl4OQUvI0AAAAAAAAAkQA==\"},\"shape\":[50],\"dtype\":\"float64\",\"order\":\"little\"}],[\"y\",{\"type\":\"ndarray\",\"array\":{\"type\":\"bytes\",\"data\":\"LkMn+Tqx9z+zCwqMRxD5P7SwzkvVFv8/p+YujV3f/D/gxCebi2sCQOl6zv5jWf0/DFKTHnDb/D9C5/fc3wDzP/S+NehF8/M/n1fztwsW8z+mxlHyyuzmP/TSnHa0BOE/BBWfjII21D9QoBr2fqe8P+dkhCfLRYY/n8zKMBGhiz/NrXJaWLm7P1pbdmilytI/R2somtBm4T+0sSwO2uXsP/sxPEkE1fE/uPlnwqHP9j9dw7ltay/9Pwi+q9Irz/g/vqkJVC9M/z/Wljl6MhIAQDYfSjT9g/4/2yaE8M/E9D/q1z9O2+P0PyIT1su1n/U/hASNqNfs7D/0A5gLDNrnP9XOKT2K1dw/suxsibsdyz8Ojdxm2ZGqP+WncigCPb0+yB7yp1grqD8t9ueZO9bFPz6OXoPb/tg/G6FGpFCd4z/CV0OBv9brP8ilVhQZFu8/h1qqdUwX+T9BXNAxFrf7P0qUkTP2S/4/ofmZKdr6/j9ItDPLjxb4PyXt/8fHwvs/O7+Usuo5+z9QDRTmnAf2Pw==\"},\"shape\":[50],\"dtype\":\"float64\",\"order\":\"little\"}]]}}},\"view\":{\"type\":\"object\",\"name\":\"CDSView\",\"id\":\"p1106\",\"attributes\":{\"filter\":{\"type\":\"object\",\"name\":\"AllIndices\",\"id\":\"p1107\"}}},\"glyph\":{\"type\":\"object\",\"name\":\"Scatter\",\"id\":\"p1102\",\"attributes\":{\"x\":{\"type\":\"field\",\"field\":\"x\"},\"y\":{\"type\":\"field\",\"field\":\"y\"},\"size\":{\"type\":\"value\",\"value\":10},\"line_color\":{\"type\":\"value\",\"value\":\"red\"},\"line_alpha\":{\"type\":\"value\",\"value\":0.6},\"fill_color\":{\"type\":\"value\",\"value\":\"red\"},\"fill_alpha\":{\"type\":\"value\",\"value\":0.6},\"hatch_color\":{\"type\":\"value\",\"value\":\"red\"},\"hatch_alpha\":{\"type\":\"value\",\"value\":0.6},\"marker\":{\"type\":\"value\",\"value\":\"triangle\"}}},\"nonselection_glyph\":{\"type\":\"object\",\"name\":\"Scatter\",\"id\":\"p1103\",\"attributes\":{\"x\":{\"type\":\"field\",\"field\":\"x\"},\"y\":{\"type\":\"field\",\"field\":\"y\"},\"size\":{\"type\":\"value\",\"value\":10},\"line_color\":{\"type\":\"value\",\"value\":\"red\"},\"line_alpha\":{\"type\":\"value\",\"value\":0.1},\"fill_color\":{\"type\":\"value\",\"value\":\"red\"},\"fill_alpha\":{\"type\":\"value\",\"value\":0.1},\"hatch_color\":{\"type\":\"value\",\"value\":\"red\"},\"hatch_alpha\":{\"type\":\"value\",\"value\":0.1},\"marker\":{\"type\":\"value\",\"value\":\"triangle\"}}},\"muted_glyph\":{\"type\":\"object\",\"name\":\"Scatter\",\"id\":\"p1104\",\"attributes\":{\"x\":{\"type\":\"field\",\"field\":\"x\"},\"y\":{\"type\":\"field\",\"field\":\"y\"},\"size\":{\"type\":\"value\",\"value\":10},\"line_color\":{\"type\":\"value\",\"value\":\"red\"},\"line_alpha\":{\"type\":\"value\",\"value\":0.2},\"fill_color\":{\"type\":\"value\",\"value\":\"red\"},\"fill_alpha\":{\"type\":\"value\",\"value\":0.2},\"hatch_color\":{\"type\":\"value\",\"value\":\"red\"},\"hatch_alpha\":{\"type\":\"value\",\"value\":0.2},\"marker\":{\"type\":\"value\",\"value\":\"triangle\"}}}}},{\"type\":\"object\",\"name\":\"GlyphRenderer\",\"id\":\"p1115\",\"attributes\":{\"data_source\":{\"type\":\"object\",\"name\":\"ColumnDataSource\",\"id\":\"p1109\",\"attributes\":{\"selected\":{\"type\":\"object\",\"name\":\"Selection\",\"id\":\"p1110\",\"attributes\":{\"indices\":[],\"line_indices\":[]}},\"selection_policy\":{\"type\":\"object\",\"name\":\"UnionRenderers\",\"id\":\"p1111\"},\"data\":{\"type\":\"map\",\"entries\":[[\"x\",{\"type\":\"ndarray\",\"array\":{\"type\":\"bytes\",\"data\":\"AAAAAAAAJMDMKXg5BS8jwJhT8HIKXiLAY31orA+NIcAvp+DlFLwgwPahsT401h/AjfWhsT40HsAkSZIkSZIcwLycgpdT8BrAVPByCl5OGcDrQ2N9aKwXwIKXU/ByChbAGutDY31oFMCyPjTWh8YSwEmSJEmSJBHAwMspeDkFD8DwcgpeTsELwCAa60NjfQjATsHLKXg5BcB8aKwPjfUBwFgfGutDY/2/uG3btm3b9r8QvJyCl1Pwv+AUvJyCl+O/gMb60Fgfyr+AxvrQWB/KP+AUvJyCl+M/GLycgpdT8D+4bdu2bdv2P1gfGutDY/0/gGisD431AUBQwcspeDkFQCAa60NjfQhA8HIKXk7BC0DAyyl4OQUPQEqSJEmSJBFAsj401ofGEkAa60NjfWgUQISXU/ByChZA7ENjfWisF0BU8HIKXk4ZQLycgpdT8BpAJEmSJEmSHECM9aGxPjQeQPihsT401h9AMKfg5RS8IEBkfWisD40hQJhT8HIKXiJAzCl4OQUvI0AAAAAAAAAkQA==\"},\"shape\":[50],\"dtype\":\"float64\",\"order\":\"little\"}],[\"y\",{\"type\":\"ndarray\",\"array\":{\"type\":\"bytes\",\"data\":\"vumAeuwK9T/zH59MBDf5P1TTUS4Phfw/eBqJ/nmn/j/A6GO0Kmz/P8zqS2gYwf4/Yp1qqPK1/D89VqhHsXr5PwPuwGkuW/U/xn/iCTK48D8+ZrN5JP3nPwy/P+3hdN4/2GHglbHXzz8ovHc1ddG2P4DkZ+kSyIc/QH0ZY3/flz9IDioOvYe/P7a0s4QlVNM/JB70+fZj4T/935RMSWnqP6yPIowl8/E/Ys7VLSJ+9j/aeXnK92r6PwWdre+DXf0/tmyJJZcQ/z8r6FjrTFz/P0pYXh20Of4/7VSQ53HD+z/yenNUUDP4P9m/CtHx3PM/rMQtDUxM7j9zmy0WKPvkP4ws7iFUQtk/xLkFEGwJyD/wFT8NEqKrPwB1a+wKgHY/0E2w9hr2pz9EFjx2/EjGP0bqq3ryC9g/u5fdHh1D5D8nzkz6RojtPy7bM8/uffM/gvtkDwPg9z8KIq22fYP7P/bskjD2Ev4//WfJpVJS/z/+04y7SiT/P3R5VO0Wjf0/FzOyeg2y+j8CGNz+Ndb2Pw==\"},\"shape\":[50],\"dtype\":\"float64\",\"order\":\"little\"}]]}}},\"view\":{\"type\":\"object\",\"name\":\"CDSView\",\"id\":\"p1116\",\"attributes\":{\"filter\":{\"type\":\"object\",\"name\":\"AllIndices\",\"id\":\"p1117\"}}},\"glyph\":{\"type\":\"object\",\"name\":\"Scatter\",\"id\":\"p1112\",\"attributes\":{\"x\":{\"type\":\"field\",\"field\":\"x\"},\"y\":{\"type\":\"field\",\"field\":\"y\"},\"size\":{\"type\":\"value\",\"value\":10},\"line_color\":{\"type\":\"value\",\"value\":\"green\"},\"line_alpha\":{\"type\":\"value\",\"value\":0.6},\"fill_color\":{\"type\":\"value\",\"value\":\"green\"},\"fill_alpha\":{\"type\":\"value\",\"value\":0.6},\"hatch_color\":{\"type\":\"value\",\"value\":\"green\"},\"hatch_alpha\":{\"type\":\"value\",\"value\":0.6}}},\"nonselection_glyph\":{\"type\":\"object\",\"name\":\"Scatter\",\"id\":\"p1113\",\"attributes\":{\"x\":{\"type\":\"field\",\"field\":\"x\"},\"y\":{\"type\":\"field\",\"field\":\"y\"},\"size\":{\"type\":\"value\",\"value\":10},\"line_color\":{\"type\":\"value\",\"value\":\"green\"},\"line_alpha\":{\"type\":\"value\",\"value\":0.1},\"fill_color\":{\"type\":\"value\",\"value\":\"green\"},\"fill_alpha\":{\"type\":\"value\",\"value\":0.1},\"hatch_color\":{\"type\":\"value\",\"value\":\"green\"},\"hatch_alpha\":{\"type\":\"value\",\"value\":0.1}}},\"muted_glyph\":{\"type\":\"object\",\"name\":\"Scatter\",\"id\":\"p1114\",\"attributes\":{\"x\":{\"type\":\"field\",\"field\":\"x\"},\"y\":{\"type\":\"field\",\"field\":\"y\"},\"size\":{\"type\":\"value\",\"value\":10},\"line_color\":{\"type\":\"value\",\"value\":\"green\"},\"line_alpha\":{\"type\":\"value\",\"value\":0.2},\"fill_color\":{\"type\":\"value\",\"value\":\"green\"},\"fill_alpha\":{\"type\":\"value\",\"value\":0.2},\"hatch_color\":{\"type\":\"value\",\"value\":\"green\"},\"hatch_alpha\":{\"type\":\"value\",\"value\":0.2}}}}}],\"toolbar\":{\"type\":\"object\",\"name\":\"Toolbar\",\"id\":\"p1064\",\"attributes\":{\"tools\":[{\"type\":\"object\",\"name\":\"PanTool\",\"id\":\"p1077\"},{\"type\":\"object\",\"name\":\"WheelZoomTool\",\"id\":\"p1078\",\"attributes\":{\"renderers\":\"auto\"}},{\"type\":\"object\",\"name\":\"BoxZoomTool\",\"id\":\"p1079\",\"attributes\":{\"overlay\":{\"type\":\"object\",\"name\":\"BoxAnnotation\",\"id\":\"p1080\",\"attributes\":{\"syncable\":false,\"level\":\"overlay\",\"visible\":false,\"left\":{\"type\":\"number\",\"value\":\"nan\"},\"right\":{\"type\":\"number\",\"value\":\"nan\"},\"top\":{\"type\":\"number\",\"value\":\"nan\"},\"bottom\":{\"type\":\"number\",\"value\":\"nan\"},\"left_units\":\"canvas\",\"right_units\":\"canvas\",\"top_units\":\"canvas\",\"bottom_units\":\"canvas\",\"line_color\":\"black\",\"line_alpha\":1.0,\"line_width\":2,\"line_dash\":[4,4],\"fill_color\":\"lightgrey\",\"fill_alpha\":0.5}}}},{\"type\":\"object\",\"name\":\"SaveTool\",\"id\":\"p1085\"},{\"type\":\"object\",\"name\":\"ResetTool\",\"id\":\"p1086\"},{\"type\":\"object\",\"name\":\"HelpTool\",\"id\":\"p1087\"}]}},\"left\":[{\"type\":\"object\",\"name\":\"LinearAxis\",\"id\":\"p1072\",\"attributes\":{\"ticker\":{\"type\":\"object\",\"name\":\"BasicTicker\",\"id\":\"p1073\",\"attributes\":{\"mantissas\":[1,2,5]}},\"formatter\":{\"type\":\"object\",\"name\":\"BasicTickFormatter\",\"id\":\"p1074\"},\"major_label_policy\":{\"type\":\"object\",\"name\":\"AllLabels\",\"id\":\"p1075\"}}}],\"below\":[{\"type\":\"object\",\"name\":\"LinearAxis\",\"id\":\"p1067\",\"attributes\":{\"ticker\":{\"type\":\"object\",\"name\":\"BasicTicker\",\"id\":\"p1068\",\"attributes\":{\"mantissas\":[1,2,5]}},\"formatter\":{\"type\":\"object\",\"name\":\"BasicTickFormatter\",\"id\":\"p1069\"},\"major_label_policy\":{\"type\":\"object\",\"name\":\"AllLabels\",\"id\":\"p1070\"}}}],\"center\":[{\"type\":\"object\",\"name\":\"Grid\",\"id\":\"p1071\",\"attributes\":{\"axis\":{\"id\":\"p1067\"}}},{\"type\":\"object\",\"name\":\"Grid\",\"id\":\"p1076\",\"attributes\":{\"dimension\":1,\"axis\":{\"id\":\"p1072\"}}},{\"type\":\"object\",\"name\":\"Legend\",\"id\":\"p1097\",\"attributes\":{\"click_policy\":\"hide\",\"items\":[{\"type\":\"object\",\"name\":\"LegendItem\",\"id\":\"p1098\",\"attributes\":{\"label\":{\"type\":\"value\",\"value\":\"Theoretical\"},\"renderers\":[{\"id\":\"p1094\"}]}},{\"type\":\"object\",\"name\":\"LegendItem\",\"id\":\"p1108\",\"attributes\":{\"label\":{\"type\":\"value\",\"value\":\"Actual (noisy)\"},\"renderers\":[{\"id\":\"p1105\"}]}},{\"type\":\"object\",\"name\":\"LegendItem\",\"id\":\"p1118\",\"attributes\":{\"label\":{\"type\":\"value\",\"value\":\"Estimated points\"},\"renderers\":[{\"id\":\"p1115\"}]}}]}}],\"background_fill_color\":\"#fafafa\"}}]}};\n  const render_items = [{\"docid\":\"27ec9d2a-7b7d-4eec-b159-2ab606a6168b\",\"roots\":{\"p1055\":\"efe43147-8733-43c9-9799-5d378b3f350f\"},\"root_ids\":[\"p1055\"]}];\n  void root.Bokeh.embed.embed_items_notebook(docs_json, render_items);\n  }\n  if (root.Bokeh !== undefined) {\n    embed_document(root);\n  } else {\n    let attempts = 0;\n    const timer = setInterval(function(root) {\n      if (root.Bokeh !== undefined) {\n        clearInterval(timer);\n        embed_document(root);\n      } else {\n        attempts++;\n        if (attempts > 100) {\n          clearInterval(timer);\n          console.log(\"Bokeh: ERROR: Unable to run BokehJS code because BokehJS library is missing\");\n        }\n      }\n    }, 10, root)\n  }\n})(window);",
      "application/vnd.bokehjs_exec.v0+json": ""
     },
     "metadata": {
      "application/vnd.bokehjs_exec.v0+json": {
       "id": "p1055"
      }
     },
     "output_type": "display_data"
    }
   ],
   "source": [
    "# the model output values corresponding to the input variables in the dataset are calculated\n",
    "y_pred=mysterious_function(x_values,soluzione.coded)\n",
    "\n",
    "# then they are compared to the noisy and non noisy data\n",
    "p = figure(title='Function fitting results',\n",
    "           background_fill_color=\"#fafafa\",           \n",
    "           width=1000,height=600)\n",
    "p.line(x=x_values,\n",
    "       y=y_pure,\n",
    "       line_width=4,\n",
    "       legend_label='Theoretical')\n",
    "p.scatter(x=x_values,\n",
    "         y=y_values,\n",
    "       legend_label='Actual (noisy)',      \n",
    "       color='red',alpha=0.6,size=10,marker='triangle')\n",
    "p.scatter(x=x_values,\n",
    "         y=y_pred,\n",
    "       legend_label='Estimated points',      \n",
    "       color='green',alpha=0.6,size=10)\n",
    "p.legend.click_policy=\"hide\"\n",
    "show(p)\n",
    "\n"
   ]
  }
 ],
 "metadata": {
  "kernelspec": {
   "display_name": "aipy39env",
   "language": "python",
   "name": "python3"
  },
  "language_info": {
   "codemirror_mode": {
    "name": "ipython",
    "version": 3
   },
   "file_extension": ".py",
   "mimetype": "text/x-python",
   "name": "python",
   "nbconvert_exporter": "python",
   "pygments_lexer": "ipython3",
   "version": "3.9.15"
  }
 },
 "nbformat": 4,
 "nbformat_minor": 2
}
